{
 "cells": [
  {
   "cell_type": "code",
   "execution_count": null,
   "metadata": {
    "colab": {
     "base_uri": "https://localhost:8080/",
     "height": 581
    },
    "colab_type": "code",
    "executionInfo": {
     "elapsed": 14520,
     "status": "ok",
     "timestamp": 1583425584258,
     "user": {
      "displayName": "Eytan Ohana",
      "photoUrl": "https://lh3.googleusercontent.com/a-/AOh14GiL6T26hkonUWxSXg1J2sItVtCzhrUC0Cck0aomWw=s64",
      "userId": "15929418301511242931"
     },
     "user_tz": -120
    },
    "id": "7JJS79H25wL-",
    "outputId": "437819ab-55d4-483a-c3f0-8d9c33b43976"
   },
   "outputs": [],
   "source": [
    "# !pip install mpl_finance\n",
    "# !pip install yfinance"
   ]
  },
  {
   "cell_type": "code",
   "execution_count": 1,
   "metadata": {
    "colab": {},
    "colab_type": "code",
    "id": "qekVdpsYXfyq"
   },
   "outputs": [
    {
     "name": "stderr",
     "output_type": "stream",
     "text": [
      "/home/eytan/miniconda/envs/data-science/lib/python3.7/site-packages/mpl_finance.py:22: DeprecationWarning: \n",
      "\n",
      "  =================================================================\n",
      "\n",
      "   WARNING: `mpl_finance` is deprecated:\n",
      "\n",
      "    Please use `mplfinance` instead (no hyphen, no underscore).\n",
      "\n",
      "    To install: `pip install --upgrade mplfinance` \n",
      "\n",
      "   For more information, see: https://pypi.org/project/mplfinance/\n",
      "\n",
      "  =================================================================\n",
      "\n",
      "  category=DeprecationWarning)\n"
     ]
    }
   ],
   "source": [
    "%matplotlib inline\n",
    "import numpy as np\n",
    "import pandas as pd\n",
    "import math\n",
    "import sklearn\n",
    "from sklearn.preprocessing import StandardScaler\n",
    "import datetime\n",
    "import os\n",
    "import matplotlib.pyplot as plt\n",
    "import matplotlib.dates as dates\n",
    "import matplotlib.ticker as mticker\n",
    "from mpl_finance import candlestick_ohlc\n",
    "import yfinance as yf\n",
    "\n",
    "import torch\n",
    "import torch.nn as nn\n",
    "import torchvision\n",
    "import torchvision.transforms as transforms\n",
    "from torchvision.datasets import MNIST\n",
    "import torch.nn.functional as F\n",
    "\n",
    "import matplotlib.pyplot as plt"
   ]
  },
  {
   "cell_type": "code",
   "execution_count": 2,
   "metadata": {
    "colab": {
     "base_uri": "https://localhost:8080/",
     "height": 34
    },
    "colab_type": "code",
    "executionInfo": {
     "elapsed": 1607,
     "status": "ok",
     "timestamp": 1583425765381,
     "user": {
      "displayName": "Eytan Ohana",
      "photoUrl": "https://lh3.googleusercontent.com/a-/AOh14GiL6T26hkonUWxSXg1J2sItVtCzhrUC0Cck0aomWw=s64",
      "userId": "15929418301511242931"
     },
     "user_tz": -120
    },
    "id": "krMHzA_kJ0D-",
    "outputId": "0565e02b-e110-487a-b32f-1f29005e0fbb"
   },
   "outputs": [
    {
     "data": {
      "text/plain": [
       "device(type='cpu')"
      ]
     },
     "execution_count": 2,
     "metadata": {},
     "output_type": "execute_result"
    }
   ],
   "source": [
    "device = torch.device('cuda' if torch.cuda.is_available() else 'cpu')\n",
    "device\n",
    "\n",
    "# from google.colab import drive\n",
    "# drive.mount('/content/drive')"
   ]
  },
  {
   "cell_type": "markdown",
   "metadata": {
    "colab_type": "text",
    "id": "fcL-cLwmW_sD"
   },
   "source": [
    "## We'll train on AAPL"
   ]
  },
  {
   "cell_type": "code",
   "execution_count": 3,
   "metadata": {
    "colab": {
     "base_uri": "https://localhost:8080/",
     "height": 450
    },
    "colab_type": "code",
    "executionInfo": {
     "elapsed": 2044,
     "status": "ok",
     "timestamp": 1583425613996,
     "user": {
      "displayName": "Eytan Ohana",
      "photoUrl": "https://lh3.googleusercontent.com/a-/AOh14GiL6T26hkonUWxSXg1J2sItVtCzhrUC0Cck0aomWw=s64",
      "userId": "15929418301511242931"
     },
     "user_tz": -120
    },
    "id": "3iAK7i45YLJb",
    "outputId": "f898c776-81b8-43cf-8ca1-305582464529"
   },
   "outputs": [
    {
     "data": {
      "text/html": [
       "<div>\n",
       "<style scoped>\n",
       "    .dataframe tbody tr th:only-of-type {\n",
       "        vertical-align: middle;\n",
       "    }\n",
       "\n",
       "    .dataframe tbody tr th {\n",
       "        vertical-align: top;\n",
       "    }\n",
       "\n",
       "    .dataframe thead th {\n",
       "        text-align: right;\n",
       "    }\n",
       "</style>\n",
       "<table border=\"1\" class=\"dataframe\">\n",
       "  <thead>\n",
       "    <tr style=\"text-align: right;\">\n",
       "      <th></th>\n",
       "      <th>Open</th>\n",
       "      <th>High</th>\n",
       "      <th>Low</th>\n",
       "      <th>Close</th>\n",
       "      <th>Volume</th>\n",
       "    </tr>\n",
       "    <tr>\n",
       "      <th>Date</th>\n",
       "      <th></th>\n",
       "      <th></th>\n",
       "      <th></th>\n",
       "      <th></th>\n",
       "      <th></th>\n",
       "    </tr>\n",
       "  </thead>\n",
       "  <tbody>\n",
       "    <tr>\n",
       "      <th>2012-01-03</th>\n",
       "      <td>107.353399</td>\n",
       "      <td>107.874371</td>\n",
       "      <td>107.076107</td>\n",
       "      <td>107.134926</td>\n",
       "      <td>193697900</td>\n",
       "    </tr>\n",
       "    <tr>\n",
       "      <th>2012-01-04</th>\n",
       "      <td>106.882842</td>\n",
       "      <td>107.395409</td>\n",
       "      <td>106.471109</td>\n",
       "      <td>107.302979</td>\n",
       "      <td>127186500</td>\n",
       "    </tr>\n",
       "    <tr>\n",
       "      <th>2012-01-05</th>\n",
       "      <td>106.723187</td>\n",
       "      <td>107.748315</td>\n",
       "      <td>106.235826</td>\n",
       "      <td>107.588661</td>\n",
       "      <td>173895000</td>\n",
       "    </tr>\n",
       "    <tr>\n",
       "      <th>2012-01-06</th>\n",
       "      <td>107.723103</td>\n",
       "      <td>107.739912</td>\n",
       "      <td>106.958457</td>\n",
       "      <td>107.311371</td>\n",
       "      <td>148050000</td>\n",
       "    </tr>\n",
       "    <tr>\n",
       "      <th>2012-01-09</th>\n",
       "      <td>107.555067</td>\n",
       "      <td>107.706311</td>\n",
       "      <td>107.059309</td>\n",
       "      <td>107.571877</td>\n",
       "      <td>99530200</td>\n",
       "    </tr>\n",
       "    <tr>\n",
       "      <th>...</th>\n",
       "      <td>...</td>\n",
       "      <td>...</td>\n",
       "      <td>...</td>\n",
       "      <td>...</td>\n",
       "      <td>...</td>\n",
       "    </tr>\n",
       "    <tr>\n",
       "      <th>2020-12-07</th>\n",
       "      <td>369.019989</td>\n",
       "      <td>369.619995</td>\n",
       "      <td>367.720001</td>\n",
       "      <td>369.089996</td>\n",
       "      <td>48944300</td>\n",
       "    </tr>\n",
       "    <tr>\n",
       "      <th>2020-12-08</th>\n",
       "      <td>367.720001</td>\n",
       "      <td>370.779999</td>\n",
       "      <td>367.670013</td>\n",
       "      <td>370.170013</td>\n",
       "      <td>42458900</td>\n",
       "    </tr>\n",
       "    <tr>\n",
       "      <th>2020-12-09</th>\n",
       "      <td>370.880005</td>\n",
       "      <td>371.049988</td>\n",
       "      <td>365.950012</td>\n",
       "      <td>366.850006</td>\n",
       "      <td>74098300</td>\n",
       "    </tr>\n",
       "    <tr>\n",
       "      <th>2020-12-10</th>\n",
       "      <td>365.369995</td>\n",
       "      <td>367.859985</td>\n",
       "      <td>364.429993</td>\n",
       "      <td>366.730011</td>\n",
       "      <td>57735400</td>\n",
       "    </tr>\n",
       "    <tr>\n",
       "      <th>2020-12-11</th>\n",
       "      <td>364.899994</td>\n",
       "      <td>366.739990</td>\n",
       "      <td>363.260010</td>\n",
       "      <td>366.299988</td>\n",
       "      <td>57698600</td>\n",
       "    </tr>\n",
       "  </tbody>\n",
       "</table>\n",
       "<p>2252 rows × 5 columns</p>\n",
       "</div>"
      ],
      "text/plain": [
       "                  Open        High         Low       Close     Volume\n",
       "Date                                                                 \n",
       "2012-01-03  107.353399  107.874371  107.076107  107.134926  193697900\n",
       "2012-01-04  106.882842  107.395409  106.471109  107.302979  127186500\n",
       "2012-01-05  106.723187  107.748315  106.235826  107.588661  173895000\n",
       "2012-01-06  107.723103  107.739912  106.958457  107.311371  148050000\n",
       "2012-01-09  107.555067  107.706311  107.059309  107.571877   99530200\n",
       "...                ...         ...         ...         ...        ...\n",
       "2020-12-07  369.019989  369.619995  367.720001  369.089996   48944300\n",
       "2020-12-08  367.720001  370.779999  367.670013  370.170013   42458900\n",
       "2020-12-09  370.880005  371.049988  365.950012  366.850006   74098300\n",
       "2020-12-10  365.369995  367.859985  364.429993  366.730011   57735400\n",
       "2020-12-11  364.899994  366.739990  363.260010  366.299988   57698600\n",
       "\n",
       "[2252 rows x 5 columns]"
      ]
     },
     "execution_count": 3,
     "metadata": {},
     "output_type": "execute_result"
    }
   ],
   "source": [
    "apple = yf.Ticker('SPY')\n",
    "apple_data = apple.history(start=\"2012-01-01\", end=\"2020-12-14\", auto_adjust=True, actions=False)\n",
    "apple_data"
   ]
  },
  {
   "cell_type": "code",
   "execution_count": 4,
   "metadata": {
    "colab": {
     "base_uri": "https://localhost:8080/",
     "height": 153
    },
    "colab_type": "code",
    "executionInfo": {
     "elapsed": 3247,
     "status": "ok",
     "timestamp": 1583425615335,
     "user": {
      "displayName": "Eytan Ohana",
      "photoUrl": "https://lh3.googleusercontent.com/a-/AOh14GiL6T26hkonUWxSXg1J2sItVtCzhrUC0Cck0aomWw=s64",
      "userId": "15929418301511242931"
     },
     "user_tz": -120
    },
    "id": "fpl4KohLNiTJ",
    "outputId": "e921ece7-5400-4907-cb4c-8d1022c1327e"
   },
   "outputs": [
    {
     "data": {
      "text/plain": [
       "DatetimeIndex(['2012-01-03', '2012-01-04', '2012-01-05', '2012-01-06',\n",
       "               '2012-01-09', '2012-01-10', '2012-01-11', '2012-01-12',\n",
       "               '2012-01-13', '2012-01-17',\n",
       "               ...\n",
       "               '2020-11-30', '2020-12-01', '2020-12-02', '2020-12-03',\n",
       "               '2020-12-04', '2020-12-07', '2020-12-08', '2020-12-09',\n",
       "               '2020-12-10', '2020-12-11'],\n",
       "              dtype='datetime64[ns]', name='Date', length=2252, freq=None)"
      ]
     },
     "execution_count": 4,
     "metadata": {},
     "output_type": "execute_result"
    }
   ],
   "source": [
    "apple_data.index"
   ]
  },
  {
   "cell_type": "code",
   "execution_count": 5,
   "metadata": {
    "colab": {
     "base_uri": "https://localhost:8080/",
     "height": 450
    },
    "colab_type": "code",
    "executionInfo": {
     "elapsed": 2388,
     "status": "ok",
     "timestamp": 1583425615338,
     "user": {
      "displayName": "Eytan Ohana",
      "photoUrl": "https://lh3.googleusercontent.com/a-/AOh14GiL6T26hkonUWxSXg1J2sItVtCzhrUC0Cck0aomWw=s64",
      "userId": "15929418301511242931"
     },
     "user_tz": -120
    },
    "id": "Z43fdnPLeMAV",
    "outputId": "3dceea92-c965-4d1a-c0ba-55ca3bdf06fa"
   },
   "outputs": [
    {
     "data": {
      "text/html": [
       "<div>\n",
       "<style scoped>\n",
       "    .dataframe tbody tr th:only-of-type {\n",
       "        vertical-align: middle;\n",
       "    }\n",
       "\n",
       "    .dataframe tbody tr th {\n",
       "        vertical-align: top;\n",
       "    }\n",
       "\n",
       "    .dataframe thead th {\n",
       "        text-align: right;\n",
       "    }\n",
       "</style>\n",
       "<table border=\"1\" class=\"dataframe\">\n",
       "  <thead>\n",
       "    <tr style=\"text-align: right;\">\n",
       "      <th></th>\n",
       "      <th>Open</th>\n",
       "      <th>High</th>\n",
       "      <th>Low</th>\n",
       "      <th>Close</th>\n",
       "      <th>Volume</th>\n",
       "      <th>num_date</th>\n",
       "    </tr>\n",
       "    <tr>\n",
       "      <th>Date</th>\n",
       "      <th></th>\n",
       "      <th></th>\n",
       "      <th></th>\n",
       "      <th></th>\n",
       "      <th></th>\n",
       "      <th></th>\n",
       "    </tr>\n",
       "  </thead>\n",
       "  <tbody>\n",
       "    <tr>\n",
       "      <th>2012-01-03</th>\n",
       "      <td>107.353399</td>\n",
       "      <td>107.874371</td>\n",
       "      <td>107.076107</td>\n",
       "      <td>107.134926</td>\n",
       "      <td>193697900</td>\n",
       "      <td>15342.0</td>\n",
       "    </tr>\n",
       "    <tr>\n",
       "      <th>2012-01-04</th>\n",
       "      <td>106.882842</td>\n",
       "      <td>107.395409</td>\n",
       "      <td>106.471109</td>\n",
       "      <td>107.302979</td>\n",
       "      <td>127186500</td>\n",
       "      <td>15343.0</td>\n",
       "    </tr>\n",
       "    <tr>\n",
       "      <th>2012-01-05</th>\n",
       "      <td>106.723187</td>\n",
       "      <td>107.748315</td>\n",
       "      <td>106.235826</td>\n",
       "      <td>107.588661</td>\n",
       "      <td>173895000</td>\n",
       "      <td>15344.0</td>\n",
       "    </tr>\n",
       "    <tr>\n",
       "      <th>2012-01-06</th>\n",
       "      <td>107.723103</td>\n",
       "      <td>107.739912</td>\n",
       "      <td>106.958457</td>\n",
       "      <td>107.311371</td>\n",
       "      <td>148050000</td>\n",
       "      <td>15345.0</td>\n",
       "    </tr>\n",
       "    <tr>\n",
       "      <th>2012-01-09</th>\n",
       "      <td>107.555067</td>\n",
       "      <td>107.706311</td>\n",
       "      <td>107.059309</td>\n",
       "      <td>107.571877</td>\n",
       "      <td>99530200</td>\n",
       "      <td>15348.0</td>\n",
       "    </tr>\n",
       "    <tr>\n",
       "      <th>...</th>\n",
       "      <td>...</td>\n",
       "      <td>...</td>\n",
       "      <td>...</td>\n",
       "      <td>...</td>\n",
       "      <td>...</td>\n",
       "      <td>...</td>\n",
       "    </tr>\n",
       "    <tr>\n",
       "      <th>2020-12-07</th>\n",
       "      <td>369.019989</td>\n",
       "      <td>369.619995</td>\n",
       "      <td>367.720001</td>\n",
       "      <td>369.089996</td>\n",
       "      <td>48944300</td>\n",
       "      <td>18603.0</td>\n",
       "    </tr>\n",
       "    <tr>\n",
       "      <th>2020-12-08</th>\n",
       "      <td>367.720001</td>\n",
       "      <td>370.779999</td>\n",
       "      <td>367.670013</td>\n",
       "      <td>370.170013</td>\n",
       "      <td>42458900</td>\n",
       "      <td>18604.0</td>\n",
       "    </tr>\n",
       "    <tr>\n",
       "      <th>2020-12-09</th>\n",
       "      <td>370.880005</td>\n",
       "      <td>371.049988</td>\n",
       "      <td>365.950012</td>\n",
       "      <td>366.850006</td>\n",
       "      <td>74098300</td>\n",
       "      <td>18605.0</td>\n",
       "    </tr>\n",
       "    <tr>\n",
       "      <th>2020-12-10</th>\n",
       "      <td>365.369995</td>\n",
       "      <td>367.859985</td>\n",
       "      <td>364.429993</td>\n",
       "      <td>366.730011</td>\n",
       "      <td>57735400</td>\n",
       "      <td>18606.0</td>\n",
       "    </tr>\n",
       "    <tr>\n",
       "      <th>2020-12-11</th>\n",
       "      <td>364.899994</td>\n",
       "      <td>366.739990</td>\n",
       "      <td>363.260010</td>\n",
       "      <td>366.299988</td>\n",
       "      <td>57698600</td>\n",
       "      <td>18607.0</td>\n",
       "    </tr>\n",
       "  </tbody>\n",
       "</table>\n",
       "<p>2252 rows × 6 columns</p>\n",
       "</div>"
      ],
      "text/plain": [
       "                  Open        High         Low       Close     Volume  \\\n",
       "Date                                                                    \n",
       "2012-01-03  107.353399  107.874371  107.076107  107.134926  193697900   \n",
       "2012-01-04  106.882842  107.395409  106.471109  107.302979  127186500   \n",
       "2012-01-05  106.723187  107.748315  106.235826  107.588661  173895000   \n",
       "2012-01-06  107.723103  107.739912  106.958457  107.311371  148050000   \n",
       "2012-01-09  107.555067  107.706311  107.059309  107.571877   99530200   \n",
       "...                ...         ...         ...         ...        ...   \n",
       "2020-12-07  369.019989  369.619995  367.720001  369.089996   48944300   \n",
       "2020-12-08  367.720001  370.779999  367.670013  370.170013   42458900   \n",
       "2020-12-09  370.880005  371.049988  365.950012  366.850006   74098300   \n",
       "2020-12-10  365.369995  367.859985  364.429993  366.730011   57735400   \n",
       "2020-12-11  364.899994  366.739990  363.260010  366.299988   57698600   \n",
       "\n",
       "            num_date  \n",
       "Date                  \n",
       "2012-01-03   15342.0  \n",
       "2012-01-04   15343.0  \n",
       "2012-01-05   15344.0  \n",
       "2012-01-06   15345.0  \n",
       "2012-01-09   15348.0  \n",
       "...              ...  \n",
       "2020-12-07   18603.0  \n",
       "2020-12-08   18604.0  \n",
       "2020-12-09   18605.0  \n",
       "2020-12-10   18606.0  \n",
       "2020-12-11   18607.0  \n",
       "\n",
       "[2252 rows x 6 columns]"
      ]
     },
     "execution_count": 5,
     "metadata": {},
     "output_type": "execute_result"
    }
   ],
   "source": [
    "apple_data['num_date'] = dates.date2num(apple_data.index)\n",
    "apple_data"
   ]
  },
  {
   "cell_type": "code",
   "execution_count": 6,
   "metadata": {
    "colab": {},
    "colab_type": "code",
    "id": "qdAnkn7IcGxD"
   },
   "outputs": [],
   "source": [
    "# Create a list of lists where each inner-list represents\n",
    "# one day's trading history\n",
    "apple = apple_data[['num_date', 'Open', 'High', 'Low', 'Close', 'Volume']]\n",
    "apple_list = apple.values.tolist()"
   ]
  },
  {
   "cell_type": "markdown",
   "metadata": {
    "colab_type": "text",
    "id": "nlZKYoMzebTQ"
   },
   "source": [
    "Plot a candlestick chart for Apples stock"
   ]
  },
  {
   "cell_type": "code",
   "execution_count": 7,
   "metadata": {
    "colab": {
     "base_uri": "https://localhost:8080/",
     "height": 519
    },
    "colab_type": "code",
    "executionInfo": {
     "elapsed": 9838,
     "status": "ok",
     "timestamp": 1583178765215,
     "user": {
      "displayName": "Dean Meyer",
      "photoUrl": "",
      "userId": "12399412200154952599"
     },
     "user_tz": -120
    },
    "id": "IB7WwbO8cM7X",
    "outputId": "aca6a378-ba74-4fa3-d0c2-fe1f438b2f9e"
   },
   "outputs": [
    {
     "data": {
      "image/png": "[encoded data removed]",
      "text/plain": [
       "<Figure size 1152x576 with 1 Axes>"
      ]
     },
     "metadata": {
      "needs_background": "light"
     },
     "output_type": "display_data"
    }
   ],
   "source": [
    "\n",
    "# Build the plot\n",
    "fig = plt.figure(figsize=(16,8))\n",
    "ax1 = plt.subplot2grid((1,1), (0,0))\n",
    "\n",
    "candlestick_ohlc(ax1, apple_list, width=0.4, colorup='#77d879', colordown='#db3f3f',)\n",
    "\n",
    "for label in ax1.xaxis.get_ticklabels():\n",
    "     label.set_rotation(45)\n",
    "\n",
    "ax1.xaxis.set_major_formatter(dates.DateFormatter('%Y-%m-%d'))\n",
    "ax1.xaxis.set_major_locator(mticker.MaxNLocator(50))\n",
    "ax1.grid(True, alpha=0.5, linestyle='-.')\n",
    "\n",
    "plt.xlabel('Date')\n",
    "plt.ylabel('Price')\n",
    "plt.title('Apple adjusted stock price')\n",
    "plt.subplots_adjust(left=0.09, bottom=0.20, right=0.94, top=0.90, wspace=0.2, hspace=0)\n",
    "plt.show()"
   ]
  },
  {
   "cell_type": "markdown",
   "metadata": {
    "colab_type": "text",
    "id": "B1rU65VpHOEa"
   },
   "source": [
    "# Scaling the data"
   ]
  },
  {
   "cell_type": "code",
   "execution_count": 8,
   "metadata": {
    "colab": {
     "base_uri": "https://localhost:8080/",
     "height": 450
    },
    "colab_type": "code",
    "executionInfo": {
     "elapsed": 1963,
     "status": "ok",
     "timestamp": 1583425626107,
     "user": {
      "displayName": "Eytan Ohana",
      "photoUrl": "https://lh3.googleusercontent.com/a-/AOh14GiL6T26hkonUWxSXg1J2sItVtCzhrUC0Cck0aomWw=s64",
      "userId": "15929418301511242931"
     },
     "user_tz": -120
    },
    "id": "9hKjW_BBHRgv",
    "outputId": "79ef5a9c-9d3c-4d6a-b7d9-767b6f51d1f3"
   },
   "outputs": [
    {
     "data": {
      "text/html": [
       "<div>\n",
       "<style scoped>\n",
       "    .dataframe tbody tr th:only-of-type {\n",
       "        vertical-align: middle;\n",
       "    }\n",
       "\n",
       "    .dataframe tbody tr th {\n",
       "        vertical-align: top;\n",
       "    }\n",
       "\n",
       "    .dataframe thead th {\n",
       "        text-align: right;\n",
       "    }\n",
       "</style>\n",
       "<table border=\"1\" class=\"dataframe\">\n",
       "  <thead>\n",
       "    <tr style=\"text-align: right;\">\n",
       "      <th></th>\n",
       "      <th>Open</th>\n",
       "      <th>High</th>\n",
       "      <th>Low</th>\n",
       "      <th>Close</th>\n",
       "      <th>Volume</th>\n",
       "    </tr>\n",
       "    <tr>\n",
       "      <th>Date</th>\n",
       "      <th></th>\n",
       "      <th></th>\n",
       "      <th></th>\n",
       "      <th></th>\n",
       "      <th></th>\n",
       "    </tr>\n",
       "  </thead>\n",
       "  <tbody>\n",
       "    <tr>\n",
       "      <th>2012-01-03</th>\n",
       "      <td>107.353399</td>\n",
       "      <td>107.874371</td>\n",
       "      <td>107.076107</td>\n",
       "      <td>107.134926</td>\n",
       "      <td>193697900</td>\n",
       "    </tr>\n",
       "    <tr>\n",
       "      <th>2012-01-04</th>\n",
       "      <td>106.882842</td>\n",
       "      <td>107.395409</td>\n",
       "      <td>106.471109</td>\n",
       "      <td>107.302979</td>\n",
       "      <td>127186500</td>\n",
       "    </tr>\n",
       "    <tr>\n",
       "      <th>2012-01-05</th>\n",
       "      <td>106.723187</td>\n",
       "      <td>107.748315</td>\n",
       "      <td>106.235826</td>\n",
       "      <td>107.588661</td>\n",
       "      <td>173895000</td>\n",
       "    </tr>\n",
       "    <tr>\n",
       "      <th>2012-01-06</th>\n",
       "      <td>107.723103</td>\n",
       "      <td>107.739912</td>\n",
       "      <td>106.958457</td>\n",
       "      <td>107.311371</td>\n",
       "      <td>148050000</td>\n",
       "    </tr>\n",
       "    <tr>\n",
       "      <th>2012-01-09</th>\n",
       "      <td>107.555067</td>\n",
       "      <td>107.706311</td>\n",
       "      <td>107.059309</td>\n",
       "      <td>107.571877</td>\n",
       "      <td>99530200</td>\n",
       "    </tr>\n",
       "    <tr>\n",
       "      <th>...</th>\n",
       "      <td>...</td>\n",
       "      <td>...</td>\n",
       "      <td>...</td>\n",
       "      <td>...</td>\n",
       "      <td>...</td>\n",
       "    </tr>\n",
       "    <tr>\n",
       "      <th>2020-12-07</th>\n",
       "      <td>369.019989</td>\n",
       "      <td>369.619995</td>\n",
       "      <td>367.720001</td>\n",
       "      <td>369.089996</td>\n",
       "      <td>48944300</td>\n",
       "    </tr>\n",
       "    <tr>\n",
       "      <th>2020-12-08</th>\n",
       "      <td>367.720001</td>\n",
       "      <td>370.779999</td>\n",
       "      <td>367.670013</td>\n",
       "      <td>370.170013</td>\n",
       "      <td>42458900</td>\n",
       "    </tr>\n",
       "    <tr>\n",
       "      <th>2020-12-09</th>\n",
       "      <td>370.880005</td>\n",
       "      <td>371.049988</td>\n",
       "      <td>365.950012</td>\n",
       "      <td>366.850006</td>\n",
       "      <td>74098300</td>\n",
       "    </tr>\n",
       "    <tr>\n",
       "      <th>2020-12-10</th>\n",
       "      <td>365.369995</td>\n",
       "      <td>367.859985</td>\n",
       "      <td>364.429993</td>\n",
       "      <td>366.730011</td>\n",
       "      <td>57735400</td>\n",
       "    </tr>\n",
       "    <tr>\n",
       "      <th>2020-12-11</th>\n",
       "      <td>364.899994</td>\n",
       "      <td>366.739990</td>\n",
       "      <td>363.260010</td>\n",
       "      <td>366.299988</td>\n",
       "      <td>57698600</td>\n",
       "    </tr>\n",
       "  </tbody>\n",
       "</table>\n",
       "<p>2252 rows × 5 columns</p>\n",
       "</div>"
      ],
      "text/plain": [
       "                  Open        High         Low       Close     Volume\n",
       "Date                                                                 \n",
       "2012-01-03  107.353399  107.874371  107.076107  107.134926  193697900\n",
       "2012-01-04  106.882842  107.395409  106.471109  107.302979  127186500\n",
       "2012-01-05  106.723187  107.748315  106.235826  107.588661  173895000\n",
       "2012-01-06  107.723103  107.739912  106.958457  107.311371  148050000\n",
       "2012-01-09  107.555067  107.706311  107.059309  107.571877   99530200\n",
       "...                ...         ...         ...         ...        ...\n",
       "2020-12-07  369.019989  369.619995  367.720001  369.089996   48944300\n",
       "2020-12-08  367.720001  370.779999  367.670013  370.170013   42458900\n",
       "2020-12-09  370.880005  371.049988  365.950012  366.850006   74098300\n",
       "2020-12-10  365.369995  367.859985  364.429993  366.730011   57735400\n",
       "2020-12-11  364.899994  366.739990  363.260010  366.299988   57698600\n",
       "\n",
       "[2252 rows x 5 columns]"
      ]
     },
     "execution_count": 8,
     "metadata": {},
     "output_type": "execute_result"
    }
   ],
   "source": [
    "apple = apple[['Open', 'High', 'Low', 'Close', 'Volume']]\n",
    "apple"
   ]
  },
  {
   "cell_type": "code",
   "execution_count": 9,
   "metadata": {
    "colab": {
     "base_uri": "https://localhost:8080/",
     "height": 119
    },
    "colab_type": "code",
    "executionInfo": {
     "elapsed": 1632,
     "status": "ok",
     "timestamp": 1583425775995,
     "user": {
      "displayName": "Eytan Ohana",
      "photoUrl": "https://lh3.googleusercontent.com/a-/AOh14GiL6T26hkonUWxSXg1J2sItVtCzhrUC0Cck0aomWw=s64",
      "userId": "15929418301511242931"
     },
     "user_tz": -120
    },
    "id": "WNwOxHwyKPLa",
    "outputId": "664eecbe-9130-4ef9-e5db-483554046fe4"
   },
   "outputs": [
    {
     "data": {
      "text/plain": [
       "array([[1.07353399e+02, 1.07874371e+02, 1.07076107e+02, 1.07134926e+02,\n",
       "        1.93697900e+08],\n",
       "       [1.06882842e+02, 1.07395409e+02, 1.06471109e+02, 1.07302979e+02,\n",
       "        1.27186500e+08],\n",
       "       [1.06723187e+02, 1.07748315e+02, 1.06235826e+02, 1.07588661e+02,\n",
       "        1.73895000e+08]])"
      ]
     },
     "execution_count": 9,
     "metadata": {},
     "output_type": "execute_result"
    }
   ],
   "source": [
    "data = apple.values\n",
    "data[:3]"
   ]
  },
  {
   "cell_type": "markdown",
   "metadata": {
    "colab_type": "text",
    "id": "SpE83wvACcUE"
   },
   "source": [
    "#### Split the data into training and testing sets"
   ]
  },
  {
   "cell_type": "code",
   "execution_count": 10,
   "metadata": {
    "colab": {},
    "colab_type": "code",
    "id": "pcUaooddCac2"
   },
   "outputs": [],
   "source": [
    "test_size = 365\n",
    "\n",
    "train_data = data[:-test_size]\n",
    "test_data = data[-test_size:]"
   ]
  },
  {
   "cell_type": "code",
   "execution_count": 11,
   "metadata": {
    "colab": {
     "base_uri": "https://localhost:8080/",
     "height": 68
    },
    "colab_type": "code",
    "executionInfo": {
     "elapsed": 728,
     "status": "ok",
     "timestamp": 1583425781090,
     "user": {
      "displayName": "Eytan Ohana",
      "photoUrl": "https://lh3.googleusercontent.com/a-/AOh14GiL6T26hkonUWxSXg1J2sItVtCzhrUC0Cck0aomWw=s64",
      "userId": "15929418301511242931"
     },
     "user_tz": -120
    },
    "id": "aeCh7ykyJVlr",
    "outputId": "aa1d7d9c-dcc8-49da-cc4d-4962df3836cc"
   },
   "outputs": [
    {
     "data": {
      "text/plain": [
       "(1887,\n",
       " tensor([[-1.6844, -1.6845, -1.6796, -1.6903,  1.7562],\n",
       "         [-1.6939, -1.6940, -1.6918, -1.6869,  0.3963],\n",
       "         [-1.6970, -1.6870, -1.6965, -1.6812,  1.3513]]))"
      ]
     },
     "execution_count": 11,
     "metadata": {},
     "output_type": "execute_result"
    }
   ],
   "source": [
    "scaler = StandardScaler()\n",
    "train_data = scaler.fit_transform(train_data)\n",
    "train_data = torch.FloatTensor(train_data).to(device)\n",
    "len(train_data), train_data[:3]"
   ]
  },
  {
   "cell_type": "code",
   "execution_count": 12,
   "metadata": {
    "colab": {
     "base_uri": "https://localhost:8080/",
     "height": 68
    },
    "colab_type": "code",
    "executionInfo": {
     "elapsed": 1662,
     "status": "ok",
     "timestamp": 1583425797883,
     "user": {
      "displayName": "Eytan Ohana",
      "photoUrl": "https://lh3.googleusercontent.com/a-/AOh14GiL6T26hkonUWxSXg1J2sItVtCzhrUC0Cck0aomWw=s64",
      "userId": "15929418301511242931"
     },
     "user_tz": -120
    },
    "id": "xtU1RKENFAyv",
    "outputId": "68319d33-bf95-445d-ec77-e857dbb95846"
   },
   "outputs": [
    {
     "data": {
      "text/plain": [
       "(365,\n",
       " tensor([[-0.6774, -0.7325, -0.6306, -0.6448, -0.6082],\n",
       "         [-0.6925, -0.7461, -0.6234, -0.7022, -0.7029],\n",
       "         [-0.7438, -0.7727, -0.6487, -0.6893, -0.7799]]))"
      ]
     },
     "execution_count": 12,
     "metadata": {},
     "output_type": "execute_result"
    }
   ],
   "source": [
    "scaler = StandardScaler()\n",
    "test_data = scaler.fit_transform(test_data)\n",
    "test_data = torch.FloatTensor(test_data).to(device)\n",
    "len(test_data), test_data[:3]"
   ]
  },
  {
   "cell_type": "code",
   "execution_count": 13,
   "metadata": {
    "colab": {},
    "colab_type": "code",
    "id": "NtrOxqxzDNrD"
   },
   "outputs": [],
   "source": [
    "# we split the data into 100 day sequences of open, high, low, close data\n",
    "# and the target value to be the next days closing price.\n",
    "def create_sequences(input_data, seq_len):\n",
    "    seq = []\n",
    "    L = len(input_data)\n",
    "    for i in range(L-seq_len):\n",
    "        train_seq = input_data[i:i+seq_len]\n",
    "        train_label = input_data[i+seq_len:i+seq_len+1][0,3]\n",
    "        seq.append((train_seq ,train_label))\n",
    "    return seq"
   ]
  },
  {
   "cell_type": "code",
   "execution_count": 14,
   "metadata": {
    "colab": {
     "base_uri": "https://localhost:8080/",
     "height": 51
    },
    "colab_type": "code",
    "executionInfo": {
     "elapsed": 1243,
     "status": "ok",
     "timestamp": 1583425833312,
     "user": {
      "displayName": "Eytan Ohana",
      "photoUrl": "https://lh3.googleusercontent.com/a-/AOh14GiL6T26hkonUWxSXg1J2sItVtCzhrUC0Cck0aomWw=s64",
      "userId": "15929418301511242931"
     },
     "user_tz": -120
    },
    "id": "QekjhqujFAkP",
    "outputId": "c8d4fba2-417a-4d9e-fdc3-6eed39b363d7"
   },
   "outputs": [
    {
     "name": "stdout",
     "output_type": "stream",
     "text": [
      "There are 1787 training sequences where each sequence has a shape of torch.Size([100, 5])\n",
      "and each sequence is paired with the closing price of the next day.\n"
     ]
    }
   ],
   "source": [
    "seq_len = 100\n",
    "train_seq = create_sequences(train_data, seq_len)\n",
    "print(f'There are {len(train_seq)} training sequences where each sequence has a shape of {train_seq[0][0].shape}')\n",
    "print(f'and each sequence is paired with the closing price of the next day.')"
   ]
  },
  {
   "cell_type": "code",
   "execution_count": 15,
   "metadata": {
    "colab": {
     "base_uri": "https://localhost:8080/",
     "height": 51
    },
    "colab_type": "code",
    "executionInfo": {
     "elapsed": 1937,
     "status": "ok",
     "timestamp": 1583425835129,
     "user": {
      "displayName": "Eytan Ohana",
      "photoUrl": "https://lh3.googleusercontent.com/a-/AOh14GiL6T26hkonUWxSXg1J2sItVtCzhrUC0Cck0aomWw=s64",
      "userId": "15929418301511242931"
     },
     "user_tz": -120
    },
    "id": "QApX5hClpbM0",
    "outputId": "d3323a5a-16af-47df-9443-6973730bd998"
   },
   "outputs": [
    {
     "name": "stdout",
     "output_type": "stream",
     "text": [
      "There are 265 testing sequences where each sequence has a shape of torch.Size([100, 5])\n",
      "and each sequence is paired with the closing price of the next day.\n"
     ]
    }
   ],
   "source": [
    "test_seq = create_sequences(test_data, seq_len)\n",
    "print(f'There are {len(test_seq)} testing sequences where each sequence has a shape of {test_seq[0][0].shape}')\n",
    "print(f'and each sequence is paired with the closing price of the next day.')"
   ]
  },
  {
   "cell_type": "code",
   "execution_count": 16,
   "metadata": {
    "colab": {},
    "colab_type": "code",
    "id": "BVi9oPHAfVEY"
   },
   "outputs": [],
   "source": [
    "from lstm import LSTM_linear_before_after\n"
   ]
  },
  {
   "cell_type": "code",
   "execution_count": 17,
   "metadata": {
    "colab": {
     "base_uri": "https://localhost:8080/",
     "height": 102
    },
    "colab_type": "code",
    "executionInfo": {
     "elapsed": 1614,
     "status": "ok",
     "timestamp": 1583427472822,
     "user": {
      "displayName": "Eytan Ohana",
      "photoUrl": "https://lh3.googleusercontent.com/a-/AOh14GiL6T26hkonUWxSXg1J2sItVtCzhrUC0Cck0aomWw=s64",
      "userId": "15929418301511242931"
     },
     "user_tz": -120
    },
    "id": "QSe3ntBcJW6v",
    "outputId": "8ac72118-5d41-425f-d50d-7ecbde885e97"
   },
   "outputs": [
    {
     "name": "stdout",
     "output_type": "stream",
     "text": [
      "LSTM_linear_before_after(\n",
      "  (fc2): Linear(in_features=5, out_features=32, bias=True)\n",
      "  (lstm): LSTM(32, 100)\n",
      "  (fc1): Linear(in_features=100, out_features=1, bias=True)\n",
      ")\n"
     ]
    }
   ],
   "source": [
    "model = LSTM_linear_before_after(5, 100, 1).to(device)\n",
    "loss_function = nn.MSELoss().to(device)\n",
    "optimizer = torch.optim.Adam(model.parameters(), lr=0.001)\n",
    "\n",
    "print(model)"
   ]
  },
  {
   "cell_type": "code",
   "execution_count": 18,
   "metadata": {
    "colab": {
     "base_uri": "https://localhost:8080/",
     "height": 1000
    },
    "colab_type": "code",
    "executionInfo": {
     "elapsed": 252014,
     "status": "ok",
     "timestamp": 1583427739064,
     "user": {
      "displayName": "Eytan Ohana",
      "photoUrl": "https://lh3.googleusercontent.com/a-/AOh14GiL6T26hkonUWxSXg1J2sItVtCzhrUC0Cck0aomWw=s64",
      "userId": "15929418301511242931"
     },
     "user_tz": -120
    },
    "id": "2YbQcPkp-guP",
    "outputId": "1693df66-bb13-4fb5-e750-e88954741ad9"
   },
   "outputs": [
    {
     "name": "stderr",
     "output_type": "stream",
     "text": [
      "/home/eytan/miniconda/envs/data-science/lib/python3.7/site-packages/torch/nn/functional.py:1639: UserWarning: nn.functional.sigmoid is deprecated. Use torch.sigmoid instead.\n",
      "  warnings.warn(\"nn.functional.sigmoid is deprecated. Use torch.sigmoid instead.\")\n"
     ]
    },
    {
     "name": "stdout",
     "output_type": "stream",
     "text": [
      "Epoch   1, iteration     0, loss: 0.05304903507232666\n",
      "Epoch   1, iteration    50, loss: 0.26494514756763693\n",
      "Epoch   1, iteration   100, loss: 0.0025108437439484987\n",
      "Epoch   1, iteration   150, loss: 0.0012453156974379454\n",
      "Epoch   1, iteration   200, loss: 0.0006766716614257007\n",
      "Epoch   1, iteration   250, loss: 0.0006902183439706277\n",
      "Epoch   1, iteration   300, loss: 0.0017695176949862911\n",
      "Epoch   1, iteration   350, loss: 0.0029376501241324604\n",
      "Epoch   1, iteration   400, loss: 0.0021912055713619338\n",
      "Epoch   1, iteration   450, loss: 0.0037506069100345487\n",
      "Epoch   1, iteration   500, loss: 0.0011557095009337103\n",
      "Epoch   1, iteration   550, loss: 0.0010917147872675059\n",
      "Epoch   1, iteration   600, loss: 0.004135308255559949\n",
      "Epoch   1, iteration   650, loss: 0.0079351566146579\n",
      "Epoch   1, iteration   700, loss: 0.0036063521530016376\n",
      "Epoch   1, iteration   750, loss: 0.001380930634781592\n",
      "Epoch   1, iteration   800, loss: 0.0015087338679059315\n",
      "Epoch   1, iteration   850, loss: 0.011612813116971665\n",
      "Epoch   1, iteration   900, loss: 0.006225122328234817\n",
      "Epoch   1, iteration   950, loss: 0.015863346418163927\n",
      "Epoch   1, iteration  1000, loss: 0.004398479273368139\n",
      "Epoch   1, iteration  1050, loss: 0.004319799574368517\n",
      "Epoch   1, iteration  1100, loss: 0.0008011543567216961\n",
      "Epoch   1, iteration  1150, loss: 0.003636356520581785\n",
      "Epoch   1, iteration  1200, loss: 0.002085917487493134\n",
      "Epoch   1, iteration  1250, loss: 0.0015062009573875912\n",
      "Epoch   1, iteration  1300, loss: 0.0013505575895055699\n",
      "Epoch   1, iteration  1350, loss: 0.001183403388104125\n",
      "Epoch   1, iteration  1400, loss: 0.001208321641746579\n",
      "Epoch   1, iteration  1450, loss: 0.011075170445020604\n",
      "Epoch   1, iteration  1500, loss: 0.020255126279212162\n",
      "Epoch   1, iteration  1550, loss: 0.0068557601757856905\n",
      "Epoch   1, iteration  1600, loss: 0.003099638120402233\n",
      "Epoch   1, iteration  1650, loss: 0.01702311887056567\n",
      "Epoch   1, iteration  1700, loss: 0.03324676866974187\n",
      "Epoch   1, iteration  1750, loss: 0.0035056974768536975\n",
      "Epoch   2, iteration     0, loss: 0.25001926250699397\n",
      "Epoch   2, iteration    50, loss: 1.622655151205545\n",
      "Epoch   2, iteration   100, loss: 0.002411242057278287\n",
      "Epoch   2, iteration   150, loss: 0.0015299791284269304\n"
     ]
    },
    {
     "ename": "KeyboardInterrupt",
     "evalue": "",
     "output_type": "error",
     "traceback": [
      "\u001b[0;31m---------------------------------------------------------------------------\u001b[0m",
      "\u001b[0;31mKeyboardInterrupt\u001b[0m                         Traceback (most recent call last)",
      "\u001b[0;32m<ipython-input-18-5d86384fc824>\u001b[0m in \u001b[0;36m<module>\u001b[0;34m\u001b[0m\n\u001b[1;32m     16\u001b[0m \u001b[0;34m\u001b[0m\u001b[0m\n\u001b[1;32m     17\u001b[0m         \u001b[0mloss\u001b[0m \u001b[0;34m=\u001b[0m \u001b[0mloss_function\u001b[0m\u001b[0;34m(\u001b[0m\u001b[0my_pred\u001b[0m\u001b[0;34m,\u001b[0m \u001b[0mlabels\u001b[0m\u001b[0;34m)\u001b[0m\u001b[0;34m\u001b[0m\u001b[0;34m\u001b[0m\u001b[0m\n\u001b[0;32m---> 18\u001b[0;31m         \u001b[0mloss\u001b[0m\u001b[0;34m.\u001b[0m\u001b[0mbackward\u001b[0m\u001b[0;34m(\u001b[0m\u001b[0;34m)\u001b[0m\u001b[0;34m\u001b[0m\u001b[0;34m\u001b[0m\u001b[0m\n\u001b[0m\u001b[1;32m     19\u001b[0m         \u001b[0moptimizer\u001b[0m\u001b[0;34m.\u001b[0m\u001b[0mstep\u001b[0m\u001b[0;34m(\u001b[0m\u001b[0;34m)\u001b[0m\u001b[0;34m\u001b[0m\u001b[0;34m\u001b[0m\u001b[0m\n\u001b[1;32m     20\u001b[0m \u001b[0;34m\u001b[0m\u001b[0m\n",
      "\u001b[0;32m~/miniconda/envs/data-science/lib/python3.7/site-packages/torch/tensor.py\u001b[0m in \u001b[0;36mbackward\u001b[0;34m(self, gradient, retain_graph, create_graph)\u001b[0m\n\u001b[1;32m    219\u001b[0m                 \u001b[0mretain_graph\u001b[0m\u001b[0;34m=\u001b[0m\u001b[0mretain_graph\u001b[0m\u001b[0;34m,\u001b[0m\u001b[0;34m\u001b[0m\u001b[0;34m\u001b[0m\u001b[0m\n\u001b[1;32m    220\u001b[0m                 create_graph=create_graph)\n\u001b[0;32m--> 221\u001b[0;31m         \u001b[0mtorch\u001b[0m\u001b[0;34m.\u001b[0m\u001b[0mautograd\u001b[0m\u001b[0;34m.\u001b[0m\u001b[0mbackward\u001b[0m\u001b[0;34m(\u001b[0m\u001b[0mself\u001b[0m\u001b[0;34m,\u001b[0m \u001b[0mgradient\u001b[0m\u001b[0;34m,\u001b[0m \u001b[0mretain_graph\u001b[0m\u001b[0;34m,\u001b[0m \u001b[0mcreate_graph\u001b[0m\u001b[0;34m)\u001b[0m\u001b[0;34m\u001b[0m\u001b[0;34m\u001b[0m\u001b[0m\n\u001b[0m\u001b[1;32m    222\u001b[0m \u001b[0;34m\u001b[0m\u001b[0m\n\u001b[1;32m    223\u001b[0m     \u001b[0;32mdef\u001b[0m \u001b[0mregister_hook\u001b[0m\u001b[0;34m(\u001b[0m\u001b[0mself\u001b[0m\u001b[0;34m,\u001b[0m \u001b[0mhook\u001b[0m\u001b[0;34m)\u001b[0m\u001b[0;34m:\u001b[0m\u001b[0;34m\u001b[0m\u001b[0;34m\u001b[0m\u001b[0m\n",
      "\u001b[0;32m~/miniconda/envs/data-science/lib/python3.7/site-packages/torch/autograd/__init__.py\u001b[0m in \u001b[0;36mbackward\u001b[0;34m(tensors, grad_tensors, retain_graph, create_graph, grad_variables)\u001b[0m\n\u001b[1;32m    130\u001b[0m     Variable._execution_engine.run_backward(\n\u001b[1;32m    131\u001b[0m         \u001b[0mtensors\u001b[0m\u001b[0;34m,\u001b[0m \u001b[0mgrad_tensors_\u001b[0m\u001b[0;34m,\u001b[0m \u001b[0mretain_graph\u001b[0m\u001b[0;34m,\u001b[0m \u001b[0mcreate_graph\u001b[0m\u001b[0;34m,\u001b[0m\u001b[0;34m\u001b[0m\u001b[0;34m\u001b[0m\u001b[0m\n\u001b[0;32m--> 132\u001b[0;31m         allow_unreachable=True)  # allow_unreachable flag\n\u001b[0m\u001b[1;32m    133\u001b[0m \u001b[0;34m\u001b[0m\u001b[0m\n\u001b[1;32m    134\u001b[0m \u001b[0;34m\u001b[0m\u001b[0m\n",
      "\u001b[0;31mKeyboardInterrupt\u001b[0m: "
     ]
    }
   ],
   "source": [
    "epochs = 30\n",
    "\n",
    "loss_history = []\n",
    "running_loss = []\n",
    "for i in range(epochs):\n",
    "    \n",
    "    for j, (seq, labels) in enumerate(train_seq):\n",
    "        seq = seq.to(device)\n",
    "        labels = labels.to(device)\n",
    "        optimizer.zero_grad()\n",
    "\n",
    "        model.h0 = torch.zeros(1, 1, model.hidden_size, device=device)\n",
    "        model.c0 = torch.zeros(1, 1, model.hidden_size, device=device)\n",
    "\n",
    "        y_pred = model(seq)\n",
    "               \n",
    "        loss = loss_function(y_pred, labels)\n",
    "        loss.backward()\n",
    "        optimizer.step()\n",
    "\n",
    "        running_loss.append(loss.item())\n",
    "\n",
    "        if j % 50 == 0:\n",
    "            avg_loss = sum(running_loss) / 50\n",
    "            print(f'Epoch {i+1:3}, iteration {j:5}, loss: {avg_loss}')\n",
    "            loss_history.append(avg_loss)\n",
    "            running_loss = []"
   ]
  },
  {
   "cell_type": "code",
   "execution_count": 19,
   "metadata": {
    "colab": {
     "base_uri": "https://localhost:8080/",
     "height": 421
    },
    "colab_type": "code",
    "executionInfo": {
     "elapsed": 2013,
     "status": "ok",
     "timestamp": 1583428858601,
     "user": {
      "displayName": "Eytan Ohana",
      "photoUrl": "https://lh3.googleusercontent.com/a-/AOh14GiL6T26hkonUWxSXg1J2sItVtCzhrUC0Cck0aomWw=s64",
      "userId": "15929418301511242931"
     },
     "user_tz": -120
    },
    "id": "xoybvTSIKK8-",
    "outputId": "759f6281-c75c-4d2c-c503-fb552c74736b"
   },
   "outputs": [
    {
     "data": {
      "text/plain": [
       "Text(0, 0.5, 'loss')"
      ]
     },
     "execution_count": 19,
     "metadata": {},
     "output_type": "execute_result"
    },
    {
     "data": {
      "image/png": "[encoded data removed]",
      "text/plain": [
       "<Figure size 1008x432 with 1 Axes>"
      ]
     },
     "metadata": {
      "needs_background": "light"
     },
     "output_type": "display_data"
    }
   ],
   "source": [
    "fig, ax1 = plt.subplots(1, 1, figsize=(14,6))\n",
    "\n",
    "# ax1.xaxis.set_major_locator(mticker.FixedLocator(loc_epochs))\n",
    "plt.title(f'loss history after 30 epochs of training')\n",
    "ax1.plot(loss_history)\n",
    "ax1.grid(alpha=.5, linestyle='-.')\n",
    "plt.xlabel('iterations')\n",
    "plt.ylabel('loss')\n",
    "# plt.savefig('/content/drive/My Drive/Deep Learning Final Project/30_SP500-epoch-loss.jpg')"
   ]
  },
  {
   "cell_type": "code",
   "execution_count": 20,
   "metadata": {
    "colab": {
     "base_uri": "https://localhost:8080/",
     "height": 71
    },
    "colab_type": "code",
    "executionInfo": {
     "elapsed": 2141,
     "status": "ok",
     "timestamp": 1583428863755,
     "user": {
      "displayName": "Eytan Ohana",
      "photoUrl": "https://lh3.googleusercontent.com/a-/AOh14GiL6T26hkonUWxSXg1J2sItVtCzhrUC0Cck0aomWw=s64",
      "userId": "15929418301511242931"
     },
     "user_tz": -120
    },
    "id": "NVH3hcHqjEV0",
    "outputId": "f4075b5b-93da-4663-cf29-1d003e9289cd"
   },
   "outputs": [],
   "source": [
    "real_labels = []\n",
    "predicted_labels = []\n",
    "\n",
    "with torch.no_grad():\n",
    "    for i, (seq, label) in enumerate(test_seq):\n",
    "        seq = seq.to(device)\n",
    "        label = label.to(device)\n",
    "\n",
    "        model.h0 = torch.zeros(1, 1, model.hidden_size, device=device) \n",
    "        model.c0 = torch.zeros(1, 1, model.hidden_size, device=device)\n",
    "\n",
    "        real_labels.append(label)\n",
    "        predicted_labels.append(model(seq))\n",
    "    "
   ]
  },
  {
   "cell_type": "code",
   "execution_count": 21,
   "metadata": {
    "colab": {
     "base_uri": "https://localhost:8080/",
     "height": 34
    },
    "colab_type": "code",
    "executionInfo": {
     "elapsed": 2674,
     "status": "ok",
     "timestamp": 1583428877533,
     "user": {
      "displayName": "Eytan Ohana",
      "photoUrl": "https://lh3.googleusercontent.com/a-/AOh14GiL6T26hkonUWxSXg1J2sItVtCzhrUC0Cck0aomWw=s64",
      "userId": "15929418301511242931"
     },
     "user_tz": -120
    },
    "id": "j5WycRfcyJsG",
    "outputId": "ee536cab-ec88-48bf-e39f-8c8368d99356"
   },
   "outputs": [
    {
     "data": {
      "text/plain": [
       "1.629014"
      ]
     },
     "execution_count": 21,
     "metadata": {},
     "output_type": "execute_result"
    }
   ],
   "source": [
    "from sklearn.metrics import mean_absolute_error\n",
    "\n",
    "mean_absolute_error(real_labels, predicted_labels)"
   ]
  },
  {
   "cell_type": "code",
   "execution_count": 22,
   "metadata": {
    "colab": {
     "base_uri": "https://localhost:8080/",
     "height": 295
    },
    "colab_type": "code",
    "executionInfo": {
     "elapsed": 1981,
     "status": "ok",
     "timestamp": 1583428987937,
     "user": {
      "displayName": "Eytan Ohana",
      "photoUrl": "https://lh3.googleusercontent.com/a-/AOh14GiL6T26hkonUWxSXg1J2sItVtCzhrUC0Cck0aomWw=s64",
      "userId": "15929418301511242931"
     },
     "user_tz": -120
    },
    "id": "-fOMRT8HjFTk",
    "outputId": "ef2c4ddf-37ce-476b-9726-8c45d66df216"
   },
   "outputs": [
    {
     "data": {
      "image/png": "[encoded data removed]",
      "text/plain": [
       "<Figure size 432x288 with 1 Axes>"
      ]
     },
     "metadata": {
      "needs_background": "light"
     },
     "output_type": "display_data"
    }
   ],
   "source": [
    "plt.title(f'predictions vs labels')\n",
    "plt.xlabel('Day')\n",
    "plt.ylabel('price')\n",
    "plt.plot(real_labels, label='real')\n",
    "plt.plot(predicted_labels, label='predicted')\n",
    "plt.legend();\n",
    "\n",
    "# plt.savefig('/content/drive/My Drive/Deep Learning Final Project/Linear_first_30_SP500-preds1.jpg')"
   ]
  },
  {
   "cell_type": "code",
   "execution_count": null,
   "metadata": {
    "colab": {},
    "colab_type": "code",
    "id": "Nl4Gak1GzIQ_"
   },
   "outputs": [],
   "source": []
  }
 ],
 "metadata": {
  "accelerator": "GPU",
  "colab": {
   "collapsed_sections": [],
   "name": "DL_Final_Linear_Before",
   "provenance": [
    {
     "file_id": "1f0bmBkp4hbkKgHjFRSRpJ5mB2m5IeFYP",
     "timestamp": 1583167104563
    }
   ]
  },
  "kernelspec": {
   "display_name": "Data Science 3.7",
   "language": "python",
   "name": "data-science"
  },
  "language_info": {
   "codemirror_mode": {
    "name": "ipython",
    "version": 3
   },
   "file_extension": ".py",
   "mimetype": "text/x-python",
   "name": "python",
   "nbconvert_exporter": "python",
   "pygments_lexer": "ipython3",
   "version": "3.7.9"
  }
 },
 "nbformat": 4,
 "nbformat_minor": 2
}
